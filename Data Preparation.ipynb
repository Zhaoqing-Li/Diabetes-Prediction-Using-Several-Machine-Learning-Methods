{
 "cells": [
  {
   "cell_type": "code",
   "execution_count": 1,
   "metadata": {},
   "outputs": [],
   "source": [
    "import pandas as pd"
   ]
  },
  {
   "cell_type": "code",
   "execution_count": 3,
   "metadata": {},
   "outputs": [],
   "source": [
    "# Read files from different datasets\n",
    "PIMA=pd.read_csv('PIMA_diabetes_preprocessed.csv')\n",
    "Sylhet=pd.read_csv('Sylhet_diabetes_preprocessed.csv')\n",
    "Mendeley=pd.read_csv('Mendeley_diabetes_preprocessed.csv')\n",
    "Azure=pd.read_csv('Azure_diabetes_preprocessed.csv')\n",
    "\n",
    "# Make a fused dataset with Age, BMI, Gender, Glucose, and Class columns\n",
    "# Prepare PIMA dataset\n",
    "PIMA['Gender'] = 2  # All cases are female\n",
    "\n",
    "# Prepare Mendeley dataset\n",
    "Mendeley['Gender'] = Mendeley['Gender'].replace({0: 2, 1: 1}) # Male for 1, and female for 2\n",
    "Mendeley['Glucose'] = 35.6 * Mendeley['HbA1c'] - 77.3 # convert the HbA1c to Glucose\n",
    "Mendeley.rename(columns={'AGE': 'Age'}, inplace=True) # Rename the columns\n",
    "\n",
    "# Prepare Azure dataset\n",
    "Azure.rename(columns={'AGE': 'Age', 'SEX': 'Gender', 'S6': 'Glucose'}, inplace=True) # Rename the columns\n",
    "\n",
    "# Selecting required columns\n",
    "PIMA_df = PIMA[['Gender', 'Age', 'BMI', 'Glucose', 'Class']]\n",
    "Mendeley_df = Mendeley[['Gender', 'Age', 'BMI', 'Glucose', 'Class']]\n",
    "Azure_df = Azure[['Gender', 'Age', 'BMI', 'Glucose', 'Class']]\n",
    "\n",
    "# Combining datasets\n",
    "fused_df = pd.concat([PIMA_df, Mendeley_df, Azure_df], axis=0) \n",
    "\n",
    "# Remove rows where Glucose is less than or equal to 0\n",
    "fused_df = fused_df[fused_df['Glucose'] > 0]\n",
    "\n",
    "# Saving the combined dataset\n",
    "fused_df.to_csv('Fused_diabetes.csv', index=False)"
   ]
  }
 ],
 "metadata": {
  "kernelspec": {
   "display_name": "Python 3",
   "language": "python",
   "name": "python3"
  },
  "language_info": {
   "codemirror_mode": {
    "name": "ipython",
    "version": 3
   },
   "file_extension": ".py",
   "mimetype": "text/x-python",
   "name": "python",
   "nbconvert_exporter": "python",
   "pygments_lexer": "ipython3",
   "version": "3.12.2"
  }
 },
 "nbformat": 4,
 "nbformat_minor": 2
}
